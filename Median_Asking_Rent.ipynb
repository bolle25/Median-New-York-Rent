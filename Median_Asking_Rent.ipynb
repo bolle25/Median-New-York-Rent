{
 "cells": [
  {
   "cell_type": "markdown",
   "metadata": {},
   "source": [
    "# Vacation Project"
   ]
  },
  {
   "cell_type": "code",
   "execution_count": 47,
   "metadata": {
    "collapsed": true
   },
   "outputs": [],
   "source": [
    "import pandas as pd\n",
    "import datetime as dt\n",
    "import numpy as np\n",
    "import scipy as sc\n",
    "import matplotlib.pyplot as plt\n",
    "import csv\n",
    "import math\n",
    "import statsmodels.api as sm\n",
    "from scipy.optimize import minimize\n",
    "%matplotlib inline"
   ]
  },
  {
   "cell_type": "markdown",
   "metadata": {},
   "source": [
    "## Retrieval"
   ]
  },
  {
   "cell_type": "markdown",
   "metadata": {},
   "source": [
    "##### Pull data"
   ]
  },
  {
   "cell_type": "code",
   "execution_count": 2,
   "metadata": {},
   "outputs": [
    {
     "data": {
      "text/html": [
       "<div>\n",
       "<style>\n",
       "    .dataframe thead tr:only-child th {\n",
       "        text-align: right;\n",
       "    }\n",
       "\n",
       "    .dataframe thead th {\n",
       "        text-align: left;\n",
       "    }\n",
       "\n",
       "    .dataframe tbody tr th {\n",
       "        vertical-align: top;\n",
       "    }\n",
       "</style>\n",
       "<table border=\"1\" class=\"dataframe\">\n",
       "  <thead>\n",
       "    <tr style=\"text-align: right;\">\n",
       "      <th></th>\n",
       "      <th>Area</th>\n",
       "      <th>Boro</th>\n",
       "      <th>AreaType</th>\n",
       "      <th>2010-01</th>\n",
       "      <th>2010-02</th>\n",
       "      <th>2010-03</th>\n",
       "      <th>2010-04</th>\n",
       "      <th>2010-05</th>\n",
       "      <th>2010-06</th>\n",
       "      <th>2010-07</th>\n",
       "      <th>...</th>\n",
       "      <th>2017-07</th>\n",
       "      <th>2017-08</th>\n",
       "      <th>2017-09</th>\n",
       "      <th>2017-10</th>\n",
       "      <th>2017-11</th>\n",
       "      <th>2017-12</th>\n",
       "      <th>2018-01</th>\n",
       "      <th>2018-02</th>\n",
       "      <th>2018-03</th>\n",
       "      <th>2018-04</th>\n",
       "    </tr>\n",
       "  </thead>\n",
       "  <tbody>\n",
       "    <tr>\n",
       "      <th>0</th>\n",
       "      <td>All Downtown</td>\n",
       "      <td>Manhattan</td>\n",
       "      <td>submarket</td>\n",
       "      <td>3200.0</td>\n",
       "      <td>3200.0</td>\n",
       "      <td>3050.0</td>\n",
       "      <td>3100.0</td>\n",
       "      <td>3100.0</td>\n",
       "      <td>3200.0</td>\n",
       "      <td>3195.0</td>\n",
       "      <td>...</td>\n",
       "      <td>3730.0</td>\n",
       "      <td>3700.0</td>\n",
       "      <td>3665.0</td>\n",
       "      <td>3675.0</td>\n",
       "      <td>3675.0</td>\n",
       "      <td>3644.0</td>\n",
       "      <td>3662.0</td>\n",
       "      <td>3760.0</td>\n",
       "      <td>3750.0</td>\n",
       "      <td>3795.0</td>\n",
       "    </tr>\n",
       "    <tr>\n",
       "      <th>1</th>\n",
       "      <td>All Midtown</td>\n",
       "      <td>Manhattan</td>\n",
       "      <td>submarket</td>\n",
       "      <td>2895.0</td>\n",
       "      <td>2800.0</td>\n",
       "      <td>2800.0</td>\n",
       "      <td>2850.0</td>\n",
       "      <td>2900.0</td>\n",
       "      <td>2950.0</td>\n",
       "      <td>3000.0</td>\n",
       "      <td>...</td>\n",
       "      <td>3500.0</td>\n",
       "      <td>3500.0</td>\n",
       "      <td>3500.0</td>\n",
       "      <td>3500.0</td>\n",
       "      <td>3355.5</td>\n",
       "      <td>3385.0</td>\n",
       "      <td>3400.0</td>\n",
       "      <td>3400.0</td>\n",
       "      <td>3400.0</td>\n",
       "      <td>3489.5</td>\n",
       "    </tr>\n",
       "    <tr>\n",
       "      <th>2</th>\n",
       "      <td>All Upper East Side</td>\n",
       "      <td>Manhattan</td>\n",
       "      <td>submarket</td>\n",
       "      <td>2459.5</td>\n",
       "      <td>2450.0</td>\n",
       "      <td>2400.0</td>\n",
       "      <td>2500.0</td>\n",
       "      <td>2550.0</td>\n",
       "      <td>2575.0</td>\n",
       "      <td>2595.0</td>\n",
       "      <td>...</td>\n",
       "      <td>2925.0</td>\n",
       "      <td>2900.0</td>\n",
       "      <td>2995.0</td>\n",
       "      <td>2950.0</td>\n",
       "      <td>2995.0</td>\n",
       "      <td>2990.0</td>\n",
       "      <td>2929.0</td>\n",
       "      <td>2900.0</td>\n",
       "      <td>2850.0</td>\n",
       "      <td>2845.0</td>\n",
       "    </tr>\n",
       "    <tr>\n",
       "      <th>3</th>\n",
       "      <td>All Upper Manhattan</td>\n",
       "      <td>Manhattan</td>\n",
       "      <td>submarket</td>\n",
       "      <td>1825.0</td>\n",
       "      <td>1810.0</td>\n",
       "      <td>1795.0</td>\n",
       "      <td>1800.0</td>\n",
       "      <td>1823.0</td>\n",
       "      <td>1850.0</td>\n",
       "      <td>1875.0</td>\n",
       "      <td>...</td>\n",
       "      <td>2395.0</td>\n",
       "      <td>2395.0</td>\n",
       "      <td>2354.0</td>\n",
       "      <td>2350.0</td>\n",
       "      <td>2275.0</td>\n",
       "      <td>2295.0</td>\n",
       "      <td>2290.0</td>\n",
       "      <td>2295.0</td>\n",
       "      <td>2316.0</td>\n",
       "      <td>2350.0</td>\n",
       "    </tr>\n",
       "    <tr>\n",
       "      <th>4</th>\n",
       "      <td>All Upper West Side</td>\n",
       "      <td>Manhattan</td>\n",
       "      <td>submarket</td>\n",
       "      <td>2895.0</td>\n",
       "      <td>2800.0</td>\n",
       "      <td>2750.0</td>\n",
       "      <td>2800.0</td>\n",
       "      <td>2800.0</td>\n",
       "      <td>2795.0</td>\n",
       "      <td>2800.0</td>\n",
       "      <td>...</td>\n",
       "      <td>3385.0</td>\n",
       "      <td>3395.0</td>\n",
       "      <td>3395.0</td>\n",
       "      <td>3400.0</td>\n",
       "      <td>3350.0</td>\n",
       "      <td>3350.0</td>\n",
       "      <td>3350.0</td>\n",
       "      <td>3295.0</td>\n",
       "      <td>3250.0</td>\n",
       "      <td>3295.0</td>\n",
       "    </tr>\n",
       "  </tbody>\n",
       "</table>\n",
       "<p>5 rows × 103 columns</p>\n",
       "</div>"
      ],
      "text/plain": [
       "                  Area       Boro   AreaType  2010-01  2010-02  2010-03  \\\n",
       "0         All Downtown  Manhattan  submarket   3200.0   3200.0   3050.0   \n",
       "1          All Midtown  Manhattan  submarket   2895.0   2800.0   2800.0   \n",
       "2  All Upper East Side  Manhattan  submarket   2459.5   2450.0   2400.0   \n",
       "3  All Upper Manhattan  Manhattan  submarket   1825.0   1810.0   1795.0   \n",
       "4  All Upper West Side  Manhattan  submarket   2895.0   2800.0   2750.0   \n",
       "\n",
       "   2010-04  2010-05  2010-06  2010-07   ...     2017-07  2017-08  2017-09  \\\n",
       "0   3100.0   3100.0   3200.0   3195.0   ...      3730.0   3700.0   3665.0   \n",
       "1   2850.0   2900.0   2950.0   3000.0   ...      3500.0   3500.0   3500.0   \n",
       "2   2500.0   2550.0   2575.0   2595.0   ...      2925.0   2900.0   2995.0   \n",
       "3   1800.0   1823.0   1850.0   1875.0   ...      2395.0   2395.0   2354.0   \n",
       "4   2800.0   2800.0   2795.0   2800.0   ...      3385.0   3395.0   3395.0   \n",
       "\n",
       "   2017-10  2017-11  2017-12  2018-01  2018-02  2018-03  2018-04  \n",
       "0   3675.0   3675.0   3644.0   3662.0   3760.0   3750.0   3795.0  \n",
       "1   3500.0   3355.5   3385.0   3400.0   3400.0   3400.0   3489.5  \n",
       "2   2950.0   2995.0   2990.0   2929.0   2900.0   2850.0   2845.0  \n",
       "3   2350.0   2275.0   2295.0   2290.0   2295.0   2316.0   2350.0  \n",
       "4   3400.0   3350.0   3350.0   3350.0   3295.0   3250.0   3295.0  \n",
       "\n",
       "[5 rows x 103 columns]"
      ]
     },
     "execution_count": 2,
     "metadata": {},
     "output_type": "execute_result"
    }
   ],
   "source": [
    "rent_main = pd.read_csv(\"E2_medianAskingRent_All.csv\")\n",
    "rent_main.head()"
   ]
  },
  {
   "cell_type": "markdown",
   "metadata": {},
   "source": [
    "# Initial Look"
   ]
  },
  {
   "cell_type": "markdown",
   "metadata": {},
   "source": [
    "##### How big is the data set?"
   ]
  },
  {
   "cell_type": "code",
   "execution_count": 3,
   "metadata": {},
   "outputs": [
    {
     "name": "stdout",
     "output_type": "stream",
     "text": [
      "(202, 103)\n"
     ]
    }
   ],
   "source": [
    "print(rent_main.shape)"
   ]
  },
  {
   "cell_type": "markdown",
   "metadata": {},
   "source": [
    "##### Are there any duplicates?"
   ]
  },
  {
   "cell_type": "code",
   "execution_count": 4,
   "metadata": {},
   "outputs": [
    {
     "name": "stdout",
     "output_type": "stream",
     "text": [
      "202\n",
      "202\n",
      "0\n"
     ]
    }
   ],
   "source": [
    "print(len(rent_main['Area']))\n",
    "print(len(set(rent_main['Area'])))\n",
    "print(rent_main.duplicated().sum())\n",
    "#No duplicates"
   ]
  },
  {
   "cell_type": "markdown",
   "metadata": {},
   "source": [
    "##### Is there any missing data?"
   ]
  },
  {
   "cell_type": "code",
   "execution_count": 5,
   "metadata": {},
   "outputs": [
    {
     "data": {
      "text/plain": [
       "Area          0\n",
       "Boro          0\n",
       "AreaType      0\n",
       "2010-01     116\n",
       "2010-02     121\n",
       "dtype: int64"
      ]
     },
     "execution_count": 5,
     "metadata": {},
     "output_type": "execute_result"
    }
   ],
   "source": [
    "rent_main.isnull().sum().head()\n",
    "#Yes lots depending on the date"
   ]
  },
  {
   "cell_type": "markdown",
   "metadata": {},
   "source": [
    "##### Any issues with data typing?"
   ]
  },
  {
   "cell_type": "code",
   "execution_count": 6,
   "metadata": {
    "collapsed": true
   },
   "outputs": [],
   "source": [
    "#No no big issues. We have strings for our area description\n",
    "#And the values of all the asking rent prices are integers\n",
    "#Problem with our NaN"
   ]
  },
  {
   "cell_type": "markdown",
   "metadata": {},
   "source": [
    "##### Handle all issues and explain what you're doing."
   ]
  },
  {
   "cell_type": "code",
   "execution_count": 7,
   "metadata": {
    "collapsed": true
   },
   "outputs": [],
   "source": [
    "#Biggest problem is that there are a bunch of missing values for rent\n",
    "#Some dont't even have any values.\n",
    "#What I will do is first assume that all missing rent values are the same as the most recent non-NaN rent.\n",
    "#From there the \"Areas\" that are entirely NaN I will remove given that they add nothing to the data set."
   ]
  },
  {
   "cell_type": "code",
   "execution_count": 8,
   "metadata": {
    "collapsed": true
   },
   "outputs": [],
   "source": [
    "temp1=rent_main.set_index(['AreaType'])\n",
    "temp2=rent_main.set_index(['Boro'])\n",
    "temp3=rent_main.set_index(['Area'])\n",
    "\n",
    "missing_areatype=temp1.T.isnull().sum()\n",
    "missing_boro=temp2.T.isnull().sum()\n",
    "missing_area=temp3.T.isnull().sum()"
   ]
  },
  {
   "cell_type": "markdown",
   "metadata": {},
   "source": [
    "# Wrangling"
   ]
  },
  {
   "cell_type": "markdown",
   "metadata": {},
   "source": [
    "##### What is current index on DataFrame? Do you like it?"
   ]
  },
  {
   "cell_type": "code",
   "execution_count": 9,
   "metadata": {
    "collapsed": true
   },
   "outputs": [],
   "source": [
    "#The current index is numerical and no I do not like it. (No index)\n",
    "#When I start working with data I will make a Hierarchical data fram with AreaType, Boro and Area as my indexes."
   ]
  },
  {
   "cell_type": "markdown",
   "metadata": {},
   "source": [
    "##### Would you create a different index and/ or orientation for this DataFrame? Why or why not?"
   ]
  },
  {
   "cell_type": "code",
   "execution_count": 10,
   "metadata": {
    "collapsed": true
   },
   "outputs": [],
   "source": [
    "#Yes I would create different orientation.\n",
    "#I would reset the data to be indexed by subset of AreaType\n",
    "#Within AreaType have subsets of Boros\n",
    "#Within Boros have a subset of Area"
   ]
  },
  {
   "cell_type": "markdown",
   "metadata": {},
   "source": [
    "##### If you have a different index in mind, go ahead and set it up"
   ]
  },
  {
   "cell_type": "code",
   "execution_count": 11,
   "metadata": {},
   "outputs": [
    {
     "data": {
      "text/html": [
       "<div>\n",
       "<style>\n",
       "    .dataframe thead tr:only-child th {\n",
       "        text-align: right;\n",
       "    }\n",
       "\n",
       "    .dataframe thead th {\n",
       "        text-align: left;\n",
       "    }\n",
       "\n",
       "    .dataframe tbody tr th {\n",
       "        vertical-align: top;\n",
       "    }\n",
       "</style>\n",
       "<table border=\"1\" class=\"dataframe\">\n",
       "  <thead>\n",
       "    <tr style=\"text-align: right;\">\n",
       "      <th></th>\n",
       "      <th></th>\n",
       "      <th></th>\n",
       "      <th>2010-01</th>\n",
       "      <th>2010-02</th>\n",
       "      <th>2010-03</th>\n",
       "      <th>2010-04</th>\n",
       "      <th>2010-05</th>\n",
       "      <th>2010-06</th>\n",
       "      <th>2010-07</th>\n",
       "      <th>2010-08</th>\n",
       "      <th>2010-09</th>\n",
       "      <th>2010-10</th>\n",
       "      <th>...</th>\n",
       "      <th>2017-07</th>\n",
       "      <th>2017-08</th>\n",
       "      <th>2017-09</th>\n",
       "      <th>2017-10</th>\n",
       "      <th>2017-11</th>\n",
       "      <th>2017-12</th>\n",
       "      <th>2018-01</th>\n",
       "      <th>2018-02</th>\n",
       "      <th>2018-03</th>\n",
       "      <th>2018-04</th>\n",
       "    </tr>\n",
       "    <tr>\n",
       "      <th>AreaType</th>\n",
       "      <th>Boro</th>\n",
       "      <th>Area</th>\n",
       "      <th></th>\n",
       "      <th></th>\n",
       "      <th></th>\n",
       "      <th></th>\n",
       "      <th></th>\n",
       "      <th></th>\n",
       "      <th></th>\n",
       "      <th></th>\n",
       "      <th></th>\n",
       "      <th></th>\n",
       "      <th></th>\n",
       "      <th></th>\n",
       "      <th></th>\n",
       "      <th></th>\n",
       "      <th></th>\n",
       "      <th></th>\n",
       "      <th></th>\n",
       "      <th></th>\n",
       "      <th></th>\n",
       "      <th></th>\n",
       "      <th></th>\n",
       "    </tr>\n",
       "  </thead>\n",
       "  <tbody>\n",
       "    <tr>\n",
       "      <th rowspan=\"5\" valign=\"top\">submarket</th>\n",
       "      <th rowspan=\"5\" valign=\"top\">Manhattan</th>\n",
       "      <th>All Downtown</th>\n",
       "      <td>3200.0</td>\n",
       "      <td>3200.0</td>\n",
       "      <td>3050.0</td>\n",
       "      <td>3100.0</td>\n",
       "      <td>3100.0</td>\n",
       "      <td>3200.0</td>\n",
       "      <td>3195.0</td>\n",
       "      <td>3200.0</td>\n",
       "      <td>3400.0</td>\n",
       "      <td>3495.0</td>\n",
       "      <td>...</td>\n",
       "      <td>3730.0</td>\n",
       "      <td>3700.0</td>\n",
       "      <td>3665.0</td>\n",
       "      <td>3675.0</td>\n",
       "      <td>3675.0</td>\n",
       "      <td>3644.0</td>\n",
       "      <td>3662.0</td>\n",
       "      <td>3760.0</td>\n",
       "      <td>3750.0</td>\n",
       "      <td>3795.0</td>\n",
       "    </tr>\n",
       "    <tr>\n",
       "      <th>All Midtown</th>\n",
       "      <td>2895.0</td>\n",
       "      <td>2800.0</td>\n",
       "      <td>2800.0</td>\n",
       "      <td>2850.0</td>\n",
       "      <td>2900.0</td>\n",
       "      <td>2950.0</td>\n",
       "      <td>3000.0</td>\n",
       "      <td>3000.0</td>\n",
       "      <td>3125.0</td>\n",
       "      <td>3150.0</td>\n",
       "      <td>...</td>\n",
       "      <td>3500.0</td>\n",
       "      <td>3500.0</td>\n",
       "      <td>3500.0</td>\n",
       "      <td>3500.0</td>\n",
       "      <td>3355.5</td>\n",
       "      <td>3385.0</td>\n",
       "      <td>3400.0</td>\n",
       "      <td>3400.0</td>\n",
       "      <td>3400.0</td>\n",
       "      <td>3489.5</td>\n",
       "    </tr>\n",
       "    <tr>\n",
       "      <th>All Upper East Side</th>\n",
       "      <td>2459.5</td>\n",
       "      <td>2450.0</td>\n",
       "      <td>2400.0</td>\n",
       "      <td>2500.0</td>\n",
       "      <td>2550.0</td>\n",
       "      <td>2575.0</td>\n",
       "      <td>2595.0</td>\n",
       "      <td>2500.0</td>\n",
       "      <td>2595.0</td>\n",
       "      <td>2550.0</td>\n",
       "      <td>...</td>\n",
       "      <td>2925.0</td>\n",
       "      <td>2900.0</td>\n",
       "      <td>2995.0</td>\n",
       "      <td>2950.0</td>\n",
       "      <td>2995.0</td>\n",
       "      <td>2990.0</td>\n",
       "      <td>2929.0</td>\n",
       "      <td>2900.0</td>\n",
       "      <td>2850.0</td>\n",
       "      <td>2845.0</td>\n",
       "    </tr>\n",
       "    <tr>\n",
       "      <th>All Upper Manhattan</th>\n",
       "      <td>1825.0</td>\n",
       "      <td>1810.0</td>\n",
       "      <td>1795.0</td>\n",
       "      <td>1800.0</td>\n",
       "      <td>1823.0</td>\n",
       "      <td>1850.0</td>\n",
       "      <td>1875.0</td>\n",
       "      <td>1850.0</td>\n",
       "      <td>1895.0</td>\n",
       "      <td>1877.5</td>\n",
       "      <td>...</td>\n",
       "      <td>2395.0</td>\n",
       "      <td>2395.0</td>\n",
       "      <td>2354.0</td>\n",
       "      <td>2350.0</td>\n",
       "      <td>2275.0</td>\n",
       "      <td>2295.0</td>\n",
       "      <td>2290.0</td>\n",
       "      <td>2295.0</td>\n",
       "      <td>2316.0</td>\n",
       "      <td>2350.0</td>\n",
       "    </tr>\n",
       "    <tr>\n",
       "      <th>All Upper West Side</th>\n",
       "      <td>2895.0</td>\n",
       "      <td>2800.0</td>\n",
       "      <td>2750.0</td>\n",
       "      <td>2800.0</td>\n",
       "      <td>2800.0</td>\n",
       "      <td>2795.0</td>\n",
       "      <td>2800.0</td>\n",
       "      <td>2875.0</td>\n",
       "      <td>2995.0</td>\n",
       "      <td>3000.0</td>\n",
       "      <td>...</td>\n",
       "      <td>3385.0</td>\n",
       "      <td>3395.0</td>\n",
       "      <td>3395.0</td>\n",
       "      <td>3400.0</td>\n",
       "      <td>3350.0</td>\n",
       "      <td>3350.0</td>\n",
       "      <td>3350.0</td>\n",
       "      <td>3295.0</td>\n",
       "      <td>3250.0</td>\n",
       "      <td>3295.0</td>\n",
       "    </tr>\n",
       "  </tbody>\n",
       "</table>\n",
       "<p>5 rows × 100 columns</p>\n",
       "</div>"
      ],
      "text/plain": [
       "                                         2010-01  2010-02  2010-03  2010-04  \\\n",
       "AreaType  Boro      Area                                                      \n",
       "submarket Manhattan All Downtown          3200.0   3200.0   3050.0   3100.0   \n",
       "                    All Midtown           2895.0   2800.0   2800.0   2850.0   \n",
       "                    All Upper East Side   2459.5   2450.0   2400.0   2500.0   \n",
       "                    All Upper Manhattan   1825.0   1810.0   1795.0   1800.0   \n",
       "                    All Upper West Side   2895.0   2800.0   2750.0   2800.0   \n",
       "\n",
       "                                         2010-05  2010-06  2010-07  2010-08  \\\n",
       "AreaType  Boro      Area                                                      \n",
       "submarket Manhattan All Downtown          3100.0   3200.0   3195.0   3200.0   \n",
       "                    All Midtown           2900.0   2950.0   3000.0   3000.0   \n",
       "                    All Upper East Side   2550.0   2575.0   2595.0   2500.0   \n",
       "                    All Upper Manhattan   1823.0   1850.0   1875.0   1850.0   \n",
       "                    All Upper West Side   2800.0   2795.0   2800.0   2875.0   \n",
       "\n",
       "                                         2010-09  2010-10   ...     2017-07  \\\n",
       "AreaType  Boro      Area                                    ...               \n",
       "submarket Manhattan All Downtown          3400.0   3495.0   ...      3730.0   \n",
       "                    All Midtown           3125.0   3150.0   ...      3500.0   \n",
       "                    All Upper East Side   2595.0   2550.0   ...      2925.0   \n",
       "                    All Upper Manhattan   1895.0   1877.5   ...      2395.0   \n",
       "                    All Upper West Side   2995.0   3000.0   ...      3385.0   \n",
       "\n",
       "                                         2017-08  2017-09  2017-10  2017-11  \\\n",
       "AreaType  Boro      Area                                                      \n",
       "submarket Manhattan All Downtown          3700.0   3665.0   3675.0   3675.0   \n",
       "                    All Midtown           3500.0   3500.0   3500.0   3355.5   \n",
       "                    All Upper East Side   2900.0   2995.0   2950.0   2995.0   \n",
       "                    All Upper Manhattan   2395.0   2354.0   2350.0   2275.0   \n",
       "                    All Upper West Side   3395.0   3395.0   3400.0   3350.0   \n",
       "\n",
       "                                         2017-12  2018-01  2018-02  2018-03  \\\n",
       "AreaType  Boro      Area                                                      \n",
       "submarket Manhattan All Downtown          3644.0   3662.0   3760.0   3750.0   \n",
       "                    All Midtown           3385.0   3400.0   3400.0   3400.0   \n",
       "                    All Upper East Side   2990.0   2929.0   2900.0   2850.0   \n",
       "                    All Upper Manhattan   2295.0   2290.0   2295.0   2316.0   \n",
       "                    All Upper West Side   3350.0   3350.0   3295.0   3250.0   \n",
       "\n",
       "                                         2018-04  \n",
       "AreaType  Boro      Area                          \n",
       "submarket Manhattan All Downtown          3795.0  \n",
       "                    All Midtown           3489.5  \n",
       "                    All Upper East Side   2845.0  \n",
       "                    All Upper Manhattan   2350.0  \n",
       "                    All Upper West Side   3295.0  \n",
       "\n",
       "[5 rows x 100 columns]"
      ]
     },
     "execution_count": 11,
     "metadata": {},
     "output_type": "execute_result"
    }
   ],
   "source": [
    "pvt=rent_main.set_index(['AreaType', 'Boro','Area'])\n",
    "pvtt=rent_main.set_index(['AreaType', 'Boro','Area'])\n",
    "pvt.head()"
   ]
  },
  {
   "cell_type": "markdown",
   "metadata": {},
   "source": [
    "# Analysis"
   ]
  },
  {
   "cell_type": "markdown",
   "metadata": {},
   "source": [
    "### Fact-finding"
   ]
  },
  {
   "cell_type": "markdown",
   "metadata": {},
   "source": [
    "##### Which Area saw the greates increase in median rent between the start and end times there? "
   ]
  },
  {
   "cell_type": "code",
   "execution_count": 12,
   "metadata": {},
   "outputs": [
    {
     "data": {
      "text/html": [
       "<div>\n",
       "<style>\n",
       "    .dataframe thead tr:only-child th {\n",
       "        text-align: right;\n",
       "    }\n",
       "\n",
       "    .dataframe thead th {\n",
       "        text-align: left;\n",
       "    }\n",
       "\n",
       "    .dataframe tbody tr th {\n",
       "        vertical-align: top;\n",
       "    }\n",
       "</style>\n",
       "<table border=\"1\" class=\"dataframe\">\n",
       "  <thead>\n",
       "    <tr style=\"text-align: right;\">\n",
       "      <th></th>\n",
       "      <th></th>\n",
       "      <th></th>\n",
       "      <th>2010-01</th>\n",
       "      <th>2010-02</th>\n",
       "      <th>2010-03</th>\n",
       "      <th>2010-04</th>\n",
       "      <th>2010-05</th>\n",
       "      <th>2010-06</th>\n",
       "      <th>2010-07</th>\n",
       "      <th>2010-08</th>\n",
       "      <th>2010-09</th>\n",
       "      <th>2010-10</th>\n",
       "      <th>...</th>\n",
       "      <th>2017-07</th>\n",
       "      <th>2017-08</th>\n",
       "      <th>2017-09</th>\n",
       "      <th>2017-10</th>\n",
       "      <th>2017-11</th>\n",
       "      <th>2017-12</th>\n",
       "      <th>2018-01</th>\n",
       "      <th>2018-02</th>\n",
       "      <th>2018-03</th>\n",
       "      <th>2018-04</th>\n",
       "    </tr>\n",
       "    <tr>\n",
       "      <th>AreaType</th>\n",
       "      <th>Boro</th>\n",
       "      <th>Area</th>\n",
       "      <th></th>\n",
       "      <th></th>\n",
       "      <th></th>\n",
       "      <th></th>\n",
       "      <th></th>\n",
       "      <th></th>\n",
       "      <th></th>\n",
       "      <th></th>\n",
       "      <th></th>\n",
       "      <th></th>\n",
       "      <th></th>\n",
       "      <th></th>\n",
       "      <th></th>\n",
       "      <th></th>\n",
       "      <th></th>\n",
       "      <th></th>\n",
       "      <th></th>\n",
       "      <th></th>\n",
       "      <th></th>\n",
       "      <th></th>\n",
       "      <th></th>\n",
       "    </tr>\n",
       "  </thead>\n",
       "  <tbody>\n",
       "    <tr>\n",
       "      <th rowspan=\"5\" valign=\"top\">submarket</th>\n",
       "      <th rowspan=\"5\" valign=\"top\">Manhattan</th>\n",
       "      <th>All Downtown</th>\n",
       "      <td>3200.0</td>\n",
       "      <td>3200.0</td>\n",
       "      <td>3050.0</td>\n",
       "      <td>3100.0</td>\n",
       "      <td>3100.0</td>\n",
       "      <td>3200.0</td>\n",
       "      <td>3195.0</td>\n",
       "      <td>3200.0</td>\n",
       "      <td>3400.0</td>\n",
       "      <td>3495.0</td>\n",
       "      <td>...</td>\n",
       "      <td>3730.0</td>\n",
       "      <td>3700.0</td>\n",
       "      <td>3665.0</td>\n",
       "      <td>3675.0</td>\n",
       "      <td>3675.0</td>\n",
       "      <td>3644.0</td>\n",
       "      <td>3662.0</td>\n",
       "      <td>3760.0</td>\n",
       "      <td>3750.0</td>\n",
       "      <td>3795.0</td>\n",
       "    </tr>\n",
       "    <tr>\n",
       "      <th>All Midtown</th>\n",
       "      <td>2895.0</td>\n",
       "      <td>2800.0</td>\n",
       "      <td>2800.0</td>\n",
       "      <td>2850.0</td>\n",
       "      <td>2900.0</td>\n",
       "      <td>2950.0</td>\n",
       "      <td>3000.0</td>\n",
       "      <td>3000.0</td>\n",
       "      <td>3125.0</td>\n",
       "      <td>3150.0</td>\n",
       "      <td>...</td>\n",
       "      <td>3500.0</td>\n",
       "      <td>3500.0</td>\n",
       "      <td>3500.0</td>\n",
       "      <td>3500.0</td>\n",
       "      <td>3355.5</td>\n",
       "      <td>3385.0</td>\n",
       "      <td>3400.0</td>\n",
       "      <td>3400.0</td>\n",
       "      <td>3400.0</td>\n",
       "      <td>3489.5</td>\n",
       "    </tr>\n",
       "    <tr>\n",
       "      <th>All Upper East Side</th>\n",
       "      <td>2459.5</td>\n",
       "      <td>2450.0</td>\n",
       "      <td>2400.0</td>\n",
       "      <td>2500.0</td>\n",
       "      <td>2550.0</td>\n",
       "      <td>2575.0</td>\n",
       "      <td>2595.0</td>\n",
       "      <td>2500.0</td>\n",
       "      <td>2595.0</td>\n",
       "      <td>2550.0</td>\n",
       "      <td>...</td>\n",
       "      <td>2925.0</td>\n",
       "      <td>2900.0</td>\n",
       "      <td>2995.0</td>\n",
       "      <td>2950.0</td>\n",
       "      <td>2995.0</td>\n",
       "      <td>2990.0</td>\n",
       "      <td>2929.0</td>\n",
       "      <td>2900.0</td>\n",
       "      <td>2850.0</td>\n",
       "      <td>2845.0</td>\n",
       "    </tr>\n",
       "    <tr>\n",
       "      <th>All Upper Manhattan</th>\n",
       "      <td>1825.0</td>\n",
       "      <td>1810.0</td>\n",
       "      <td>1795.0</td>\n",
       "      <td>1800.0</td>\n",
       "      <td>1823.0</td>\n",
       "      <td>1850.0</td>\n",
       "      <td>1875.0</td>\n",
       "      <td>1850.0</td>\n",
       "      <td>1895.0</td>\n",
       "      <td>1877.5</td>\n",
       "      <td>...</td>\n",
       "      <td>2395.0</td>\n",
       "      <td>2395.0</td>\n",
       "      <td>2354.0</td>\n",
       "      <td>2350.0</td>\n",
       "      <td>2275.0</td>\n",
       "      <td>2295.0</td>\n",
       "      <td>2290.0</td>\n",
       "      <td>2295.0</td>\n",
       "      <td>2316.0</td>\n",
       "      <td>2350.0</td>\n",
       "    </tr>\n",
       "    <tr>\n",
       "      <th>All Upper West Side</th>\n",
       "      <td>2895.0</td>\n",
       "      <td>2800.0</td>\n",
       "      <td>2750.0</td>\n",
       "      <td>2800.0</td>\n",
       "      <td>2800.0</td>\n",
       "      <td>2795.0</td>\n",
       "      <td>2800.0</td>\n",
       "      <td>2875.0</td>\n",
       "      <td>2995.0</td>\n",
       "      <td>3000.0</td>\n",
       "      <td>...</td>\n",
       "      <td>3385.0</td>\n",
       "      <td>3395.0</td>\n",
       "      <td>3395.0</td>\n",
       "      <td>3400.0</td>\n",
       "      <td>3350.0</td>\n",
       "      <td>3350.0</td>\n",
       "      <td>3350.0</td>\n",
       "      <td>3295.0</td>\n",
       "      <td>3250.0</td>\n",
       "      <td>3295.0</td>\n",
       "    </tr>\n",
       "  </tbody>\n",
       "</table>\n",
       "<p>5 rows × 100 columns</p>\n",
       "</div>"
      ],
      "text/plain": [
       "                                         2010-01  2010-02  2010-03  2010-04  \\\n",
       "AreaType  Boro      Area                                                      \n",
       "submarket Manhattan All Downtown          3200.0   3200.0   3050.0   3100.0   \n",
       "                    All Midtown           2895.0   2800.0   2800.0   2850.0   \n",
       "                    All Upper East Side   2459.5   2450.0   2400.0   2500.0   \n",
       "                    All Upper Manhattan   1825.0   1810.0   1795.0   1800.0   \n",
       "                    All Upper West Side   2895.0   2800.0   2750.0   2800.0   \n",
       "\n",
       "                                         2010-05  2010-06  2010-07  2010-08  \\\n",
       "AreaType  Boro      Area                                                      \n",
       "submarket Manhattan All Downtown          3100.0   3200.0   3195.0   3200.0   \n",
       "                    All Midtown           2900.0   2950.0   3000.0   3000.0   \n",
       "                    All Upper East Side   2550.0   2575.0   2595.0   2500.0   \n",
       "                    All Upper Manhattan   1823.0   1850.0   1875.0   1850.0   \n",
       "                    All Upper West Side   2800.0   2795.0   2800.0   2875.0   \n",
       "\n",
       "                                         2010-09  2010-10   ...     2017-07  \\\n",
       "AreaType  Boro      Area                                    ...               \n",
       "submarket Manhattan All Downtown          3400.0   3495.0   ...      3730.0   \n",
       "                    All Midtown           3125.0   3150.0   ...      3500.0   \n",
       "                    All Upper East Side   2595.0   2550.0   ...      2925.0   \n",
       "                    All Upper Manhattan   1895.0   1877.5   ...      2395.0   \n",
       "                    All Upper West Side   2995.0   3000.0   ...      3385.0   \n",
       "\n",
       "                                         2017-08  2017-09  2017-10  2017-11  \\\n",
       "AreaType  Boro      Area                                                      \n",
       "submarket Manhattan All Downtown          3700.0   3665.0   3675.0   3675.0   \n",
       "                    All Midtown           3500.0   3500.0   3500.0   3355.5   \n",
       "                    All Upper East Side   2900.0   2995.0   2950.0   2995.0   \n",
       "                    All Upper Manhattan   2395.0   2354.0   2350.0   2275.0   \n",
       "                    All Upper West Side   3395.0   3395.0   3400.0   3350.0   \n",
       "\n",
       "                                         2017-12  2018-01  2018-02  2018-03  \\\n",
       "AreaType  Boro      Area                                                      \n",
       "submarket Manhattan All Downtown          3644.0   3662.0   3760.0   3750.0   \n",
       "                    All Midtown           3385.0   3400.0   3400.0   3400.0   \n",
       "                    All Upper East Side   2990.0   2929.0   2900.0   2850.0   \n",
       "                    All Upper Manhattan   2295.0   2290.0   2295.0   2316.0   \n",
       "                    All Upper West Side   3350.0   3350.0   3295.0   3250.0   \n",
       "\n",
       "                                         2018-04  \n",
       "AreaType  Boro      Area                          \n",
       "submarket Manhattan All Downtown          3795.0  \n",
       "                    All Midtown           3489.5  \n",
       "                    All Upper East Side   2845.0  \n",
       "                    All Upper Manhattan   2350.0  \n",
       "                    All Upper West Side   3295.0  \n",
       "\n",
       "[5 rows x 100 columns]"
      ]
     },
     "execution_count": 12,
     "metadata": {},
     "output_type": "execute_result"
    }
   ],
   "source": [
    "pvt=pvt.T.fillna(method='ffill').fillna(method='bfill').T.dropna()\n",
    "pvt.head()"
   ]
  },
  {
   "cell_type": "code",
   "execution_count": 13,
   "metadata": {},
   "outputs": [
    {
     "data": {
      "text/plain": [
       "AreaType      Boro       Area              \n",
       "neighborhood  Manhattan  Central Park South    1500.0\n",
       "              Brooklyn   Cobble Hill           1295.0\n",
       "                         Downtown Brooklyn     1242.0\n",
       "                         Gowanus               1160.0\n",
       "                         East New York         1006.5\n",
       "dtype: float64"
      ]
     },
     "execution_count": 13,
     "metadata": {},
     "output_type": "execute_result"
    }
   ],
   "source": [
    "(pvt['2018-04']-pvt['2010-01']).sort_values(ascending=False).head()\n",
    "#Central Park South has greatest rent change in pure magnitude. Not by percentage."
   ]
  },
  {
   "cell_type": "code",
   "execution_count": 14,
   "metadata": {},
   "outputs": [
    {
     "data": {
      "text/plain": [
       "AreaType      Boro      Area         \n",
       "neighborhood  Brooklyn  East New York    0.915000\n",
       "                        Bath Beach       0.859535\n",
       "              Bronx     Morrisania       0.736420\n",
       "              Queens    Elmhurst         0.734783\n",
       "              Brooklyn  Gowanus          0.725000\n",
       "dtype: float64"
      ]
     },
     "execution_count": 14,
     "metadata": {},
     "output_type": "execute_result"
    }
   ],
   "source": [
    "((pvt['2018-04']-pvt['2010-01'])/pvt['2010-01']).sort_values(ascending=False).head()\n",
    "#The greatest percentage increase is East New York at 91.5%"
   ]
  },
  {
   "cell_type": "markdown",
   "metadata": {},
   "source": [
    "##### Which Borough had the highest average median rent?"
   ]
  },
  {
   "cell_type": "code",
   "execution_count": 15,
   "metadata": {},
   "outputs": [
    {
     "data": {
      "text/html": [
       "<div>\n",
       "<style>\n",
       "    .dataframe thead tr:only-child th {\n",
       "        text-align: right;\n",
       "    }\n",
       "\n",
       "    .dataframe thead th {\n",
       "        text-align: left;\n",
       "    }\n",
       "\n",
       "    .dataframe tbody tr th {\n",
       "        vertical-align: top;\n",
       "    }\n",
       "</style>\n",
       "<table border=\"1\" class=\"dataframe\">\n",
       "  <thead>\n",
       "    <tr style=\"text-align: right;\">\n",
       "      <th></th>\n",
       "      <th></th>\n",
       "      <th></th>\n",
       "      <th>2010-01</th>\n",
       "      <th>2010-02</th>\n",
       "      <th>2010-03</th>\n",
       "      <th>2010-04</th>\n",
       "      <th>2010-05</th>\n",
       "      <th>2010-06</th>\n",
       "      <th>2010-07</th>\n",
       "      <th>2010-08</th>\n",
       "      <th>2010-09</th>\n",
       "      <th>2010-10</th>\n",
       "      <th>...</th>\n",
       "      <th>2017-07</th>\n",
       "      <th>2017-08</th>\n",
       "      <th>2017-09</th>\n",
       "      <th>2017-10</th>\n",
       "      <th>2017-11</th>\n",
       "      <th>2017-12</th>\n",
       "      <th>2018-01</th>\n",
       "      <th>2018-02</th>\n",
       "      <th>2018-03</th>\n",
       "      <th>2018-04</th>\n",
       "    </tr>\n",
       "    <tr>\n",
       "      <th>AreaType</th>\n",
       "      <th>Boro</th>\n",
       "      <th>Area</th>\n",
       "      <th></th>\n",
       "      <th></th>\n",
       "      <th></th>\n",
       "      <th></th>\n",
       "      <th></th>\n",
       "      <th></th>\n",
       "      <th></th>\n",
       "      <th></th>\n",
       "      <th></th>\n",
       "      <th></th>\n",
       "      <th></th>\n",
       "      <th></th>\n",
       "      <th></th>\n",
       "      <th></th>\n",
       "      <th></th>\n",
       "      <th></th>\n",
       "      <th></th>\n",
       "      <th></th>\n",
       "      <th></th>\n",
       "      <th></th>\n",
       "      <th></th>\n",
       "    </tr>\n",
       "  </thead>\n",
       "  <tbody>\n",
       "    <tr>\n",
       "      <th rowspan=\"5\" valign=\"top\">borough</th>\n",
       "      <th>Bronx</th>\n",
       "      <th>Bronx</th>\n",
       "      <td>1600.0</td>\n",
       "      <td>1600.0</td>\n",
       "      <td>1508.0</td>\n",
       "      <td>1500.0</td>\n",
       "      <td>1600.0</td>\n",
       "      <td>1508.0</td>\n",
       "      <td>1529.0</td>\n",
       "      <td>1600.0</td>\n",
       "      <td>1600.0</td>\n",
       "      <td>1500.0</td>\n",
       "      <td>...</td>\n",
       "      <td>1750.0</td>\n",
       "      <td>1750.0</td>\n",
       "      <td>1750.0</td>\n",
       "      <td>1790.0</td>\n",
       "      <td>1755.0</td>\n",
       "      <td>1726.5</td>\n",
       "      <td>1787.0</td>\n",
       "      <td>1800.0</td>\n",
       "      <td>1850.0</td>\n",
       "      <td>1900.0</td>\n",
       "    </tr>\n",
       "    <tr>\n",
       "      <th>Brooklyn</th>\n",
       "      <th>Brooklyn</th>\n",
       "      <td>2200.0</td>\n",
       "      <td>2150.0</td>\n",
       "      <td>2150.0</td>\n",
       "      <td>2150.0</td>\n",
       "      <td>2200.0</td>\n",
       "      <td>2250.0</td>\n",
       "      <td>2300.0</td>\n",
       "      <td>2300.0</td>\n",
       "      <td>2400.0</td>\n",
       "      <td>2390.0</td>\n",
       "      <td>...</td>\n",
       "      <td>2595.0</td>\n",
       "      <td>2620.0</td>\n",
       "      <td>2595.0</td>\n",
       "      <td>2500.0</td>\n",
       "      <td>2495.0</td>\n",
       "      <td>2450.0</td>\n",
       "      <td>2450.0</td>\n",
       "      <td>2450.0</td>\n",
       "      <td>2495.0</td>\n",
       "      <td>2500.0</td>\n",
       "    </tr>\n",
       "    <tr>\n",
       "      <th>Manhattan</th>\n",
       "      <th>Manhattan</th>\n",
       "      <td>2800.0</td>\n",
       "      <td>2795.0</td>\n",
       "      <td>2743.5</td>\n",
       "      <td>2800.0</td>\n",
       "      <td>2800.0</td>\n",
       "      <td>2850.0</td>\n",
       "      <td>2875.0</td>\n",
       "      <td>2890.0</td>\n",
       "      <td>2999.0</td>\n",
       "      <td>3000.0</td>\n",
       "      <td>...</td>\n",
       "      <td>3300.0</td>\n",
       "      <td>3300.0</td>\n",
       "      <td>3300.0</td>\n",
       "      <td>3295.0</td>\n",
       "      <td>3200.0</td>\n",
       "      <td>3208.0</td>\n",
       "      <td>3225.0</td>\n",
       "      <td>3225.5</td>\n",
       "      <td>3204.0</td>\n",
       "      <td>3265.0</td>\n",
       "    </tr>\n",
       "    <tr>\n",
       "      <th>Queens</th>\n",
       "      <th>Queens</th>\n",
       "      <td>1655.0</td>\n",
       "      <td>1675.0</td>\n",
       "      <td>1700.0</td>\n",
       "      <td>1675.0</td>\n",
       "      <td>1550.0</td>\n",
       "      <td>1550.0</td>\n",
       "      <td>1550.0</td>\n",
       "      <td>1550.0</td>\n",
       "      <td>1575.0</td>\n",
       "      <td>1600.0</td>\n",
       "      <td>...</td>\n",
       "      <td>2250.0</td>\n",
       "      <td>2300.0</td>\n",
       "      <td>2250.0</td>\n",
       "      <td>2200.0</td>\n",
       "      <td>2200.0</td>\n",
       "      <td>2195.0</td>\n",
       "      <td>2150.0</td>\n",
       "      <td>2150.0</td>\n",
       "      <td>2200.0</td>\n",
       "      <td>2200.0</td>\n",
       "    </tr>\n",
       "    <tr>\n",
       "      <th>Staten Island</th>\n",
       "      <th>Staten Island</th>\n",
       "      <td>1425.0</td>\n",
       "      <td>1425.0</td>\n",
       "      <td>1425.0</td>\n",
       "      <td>1425.0</td>\n",
       "      <td>1425.0</td>\n",
       "      <td>1425.0</td>\n",
       "      <td>1425.0</td>\n",
       "      <td>1425.0</td>\n",
       "      <td>1425.0</td>\n",
       "      <td>1425.0</td>\n",
       "      <td>...</td>\n",
       "      <td>1950.0</td>\n",
       "      <td>2000.0</td>\n",
       "      <td>1790.0</td>\n",
       "      <td>1875.0</td>\n",
       "      <td>1887.5</td>\n",
       "      <td>1925.0</td>\n",
       "      <td>1850.0</td>\n",
       "      <td>1882.0</td>\n",
       "      <td>1828.5</td>\n",
       "      <td>1832.0</td>\n",
       "    </tr>\n",
       "  </tbody>\n",
       "</table>\n",
       "<p>5 rows × 100 columns</p>\n",
       "</div>"
      ],
      "text/plain": [
       "                                      2010-01  2010-02  2010-03  2010-04  \\\n",
       "AreaType Boro          Area                                                \n",
       "borough  Bronx         Bronx           1600.0   1600.0   1508.0   1500.0   \n",
       "         Brooklyn      Brooklyn        2200.0   2150.0   2150.0   2150.0   \n",
       "         Manhattan     Manhattan       2800.0   2795.0   2743.5   2800.0   \n",
       "         Queens        Queens          1655.0   1675.0   1700.0   1675.0   \n",
       "         Staten Island Staten Island   1425.0   1425.0   1425.0   1425.0   \n",
       "\n",
       "                                      2010-05  2010-06  2010-07  2010-08  \\\n",
       "AreaType Boro          Area                                                \n",
       "borough  Bronx         Bronx           1600.0   1508.0   1529.0   1600.0   \n",
       "         Brooklyn      Brooklyn        2200.0   2250.0   2300.0   2300.0   \n",
       "         Manhattan     Manhattan       2800.0   2850.0   2875.0   2890.0   \n",
       "         Queens        Queens          1550.0   1550.0   1550.0   1550.0   \n",
       "         Staten Island Staten Island   1425.0   1425.0   1425.0   1425.0   \n",
       "\n",
       "                                      2010-09  2010-10   ...     2017-07  \\\n",
       "AreaType Boro          Area                              ...               \n",
       "borough  Bronx         Bronx           1600.0   1500.0   ...      1750.0   \n",
       "         Brooklyn      Brooklyn        2400.0   2390.0   ...      2595.0   \n",
       "         Manhattan     Manhattan       2999.0   3000.0   ...      3300.0   \n",
       "         Queens        Queens          1575.0   1600.0   ...      2250.0   \n",
       "         Staten Island Staten Island   1425.0   1425.0   ...      1950.0   \n",
       "\n",
       "                                      2017-08  2017-09  2017-10  2017-11  \\\n",
       "AreaType Boro          Area                                                \n",
       "borough  Bronx         Bronx           1750.0   1750.0   1790.0   1755.0   \n",
       "         Brooklyn      Brooklyn        2620.0   2595.0   2500.0   2495.0   \n",
       "         Manhattan     Manhattan       3300.0   3300.0   3295.0   3200.0   \n",
       "         Queens        Queens          2300.0   2250.0   2200.0   2200.0   \n",
       "         Staten Island Staten Island   2000.0   1790.0   1875.0   1887.5   \n",
       "\n",
       "                                      2017-12  2018-01  2018-02  2018-03  \\\n",
       "AreaType Boro          Area                                                \n",
       "borough  Bronx         Bronx           1726.5   1787.0   1800.0   1850.0   \n",
       "         Brooklyn      Brooklyn        2450.0   2450.0   2450.0   2495.0   \n",
       "         Manhattan     Manhattan       3208.0   3225.0   3225.5   3204.0   \n",
       "         Queens        Queens          2195.0   2150.0   2150.0   2200.0   \n",
       "         Staten Island Staten Island   1925.0   1850.0   1882.0   1828.5   \n",
       "\n",
       "                                      2018-04  \n",
       "AreaType Boro          Area                    \n",
       "borough  Bronx         Bronx           1900.0  \n",
       "         Brooklyn      Brooklyn        2500.0  \n",
       "         Manhattan     Manhattan       3265.0  \n",
       "         Queens        Queens          2200.0  \n",
       "         Staten Island Staten Island   1832.0  \n",
       "\n",
       "[5 rows x 100 columns]"
      ]
     },
     "execution_count": 15,
     "metadata": {},
     "output_type": "execute_result"
    }
   ],
   "source": [
    "pvt.sort_index(level='AreaType').head()"
   ]
  },
  {
   "cell_type": "code",
   "execution_count": 16,
   "metadata": {},
   "outputs": [
    {
     "data": {
      "text/plain": [
       "Boro           Area         \n",
       "Bronx          Bronx            1550.0\n",
       "Brooklyn       Brooklyn         2500.0\n",
       "Manhattan      Manhattan        3216.5\n",
       "Queens         Queens           2185.0\n",
       "Staten Island  Staten Island    1650.0\n",
       "dtype: float64"
      ]
     },
     "execution_count": 16,
     "metadata": {},
     "output_type": "execute_result"
    }
   ],
   "source": [
    "borough_data=pvt.loc['borough'].median(axis=1)\n",
    "borough_data\n",
    "#highest median rent of the 5 boroughs is Manhattan at $3,216"
   ]
  },
  {
   "cell_type": "markdown",
   "metadata": {},
   "source": [
    "##### If you were to put together an \"index\" to describe each Borough through summarizing the median prices for each of its Areas, would you use a mean or median, and why?"
   ]
  },
  {
   "cell_type": "code",
   "execution_count": 17,
   "metadata": {
    "collapsed": true
   },
   "outputs": [],
   "source": [
    "#I would use median because the mean more heavily weights the outliers."
   ]
  },
  {
   "cell_type": "markdown",
   "metadata": {
    "collapsed": true
   },
   "source": [
    "# Exploration"
   ]
  },
  {
   "cell_type": "markdown",
   "metadata": {
    "collapsed": true
   },
   "source": [
    "##### Plot a histogram of the median rents across all Areas for 2018-04"
   ]
  },
  {
   "cell_type": "code",
   "execution_count": 18,
   "metadata": {},
   "outputs": [
    {
     "data": {
      "text/plain": [
       "Text(0,0.5,'Rent Bins')"
      ]
     },
     "execution_count": 18,
     "metadata": {},
     "output_type": "execute_result"
    },
    {
     "data": {
      "image/png": "[encoded data removed]",
      "text/plain": [
       "<matplotlib.figure.Figure at 0x2530b83af98>"
      ]
     },
     "metadata": {},
     "output_type": "display_data"
    }
   ],
   "source": [
    "zzz=pd.cut(pvt['2018-04'].values,bins=20).value_counts().plot(kind='barh')\n",
    "plt.title('Rent Prices in April 2018')\n",
    "plt.xlabel('Count')\n",
    "plt.ylabel('Rent Bins')"
   ]
  },
  {
   "cell_type": "code",
   "execution_count": 19,
   "metadata": {},
   "outputs": [
    {
     "data": {
      "text/plain": [
       "Text(0,0.5,'Density')"
      ]
     },
     "execution_count": 19,
     "metadata": {},
     "output_type": "execute_result"
    },
    {
     "data": {
      "image/png": "[encoded data removed]",
      "text/plain": [
       "<matplotlib.figure.Figure at 0x25307d8c400>"
      ]
     },
     "metadata": {},
     "output_type": "display_data"
    }
   ],
   "source": [
    "import seaborn as sns\n",
    "returns=pvt.pct_change()\n",
    "returns=returns.drop(returns.index[[0]])\n",
    "sns.distplot(pvt['2018-01'], hist=False, rug=True)\n",
    "plt.title('Distibution of Rent in April 2018')\n",
    "plt.xlabel('Rent Price')\n",
    "plt.ylabel('Density')"
   ]
  },
  {
   "cell_type": "code",
   "execution_count": 20,
   "metadata": {},
   "outputs": [
    {
     "data": {
      "image/png": "[encoded data removed]",
      "text/plain": [
       "<matplotlib.figure.Figure at 0x2530c25efd0>"
      ]
     },
     "metadata": {},
     "output_type": "display_data"
    }
   ],
   "source": [
    "import matplotlib.pyplot as plt\n",
    "import scipy.stats as sp\n",
    "\n",
    "\n",
    "def qq_plot(series, figsize=(11, 8)):\n",
    "    \"\"\"compare given series to Normal distirbution\n",
    "    with matching location & scale\"\"\"\n",
    "    fig = plt.figure(figsize=figsize)\n",
    "    ax = fig.add_subplot(111)\n",
    "    arrs, res = sp.probplot(series, \n",
    "                            dist=sp.norm, \n",
    "                            sparams=(series.mean(), series.std()), \n",
    "                            plot=ax)\n",
    "    bbox = {'fc': '1', 'pad': 3}\n",
    "    xy = (ax.get_xticks()[-2], ax.get_yticks()[2])\n",
    "    text = ax.annotate(r'$R^2$: {}'.format(round(res[2], 3)),\n",
    "                     xy=xy,\n",
    "                     bbox=bbox)\n",
    "    title = ax.set_title('Q-Q plot')\n",
    "qq_plot(np.log(pvt['2018-01']), figsize=(11,8))"
   ]
  },
  {
   "cell_type": "markdown",
   "metadata": {},
   "source": [
    "##### Pick 3-5 Areas, for which there is data for the entire provided time period, and form a new table out of these"
   ]
  },
  {
   "cell_type": "code",
   "execution_count": 21,
   "metadata": {},
   "outputs": [
    {
     "data": {
      "text/plain": [
       "AreaType   Boro       Area               \n",
       "submarket  Manhattan  All Downtown           0\n",
       "                      All Midtown            0\n",
       "                      All Upper East Side    0\n",
       "                      All Upper Manhattan    0\n",
       "                      All Upper West Side    0\n",
       "dtype: int64"
      ]
     },
     "execution_count": 21,
     "metadata": {},
     "output_type": "execute_result"
    }
   ],
   "source": [
    "pvtt.T.isnull().sum().head()\n",
    "# Areas are All Downtown, All Midtown, All Upper East Side, All Upper Manhattan, All Upper West Side"
   ]
  },
  {
   "cell_type": "code",
   "execution_count": 22,
   "metadata": {},
   "outputs": [
    {
     "data": {
      "text/html": [
       "<div>\n",
       "<style>\n",
       "    .dataframe thead tr:only-child th {\n",
       "        text-align: right;\n",
       "    }\n",
       "\n",
       "    .dataframe thead th {\n",
       "        text-align: left;\n",
       "    }\n",
       "\n",
       "    .dataframe tbody tr th {\n",
       "        vertical-align: top;\n",
       "    }\n",
       "</style>\n",
       "<table border=\"1\" class=\"dataframe\">\n",
       "  <thead>\n",
       "    <tr style=\"text-align: right;\">\n",
       "      <th></th>\n",
       "      <th>All Downtown</th>\n",
       "      <th>All Midtown</th>\n",
       "      <th>All Upper East Side</th>\n",
       "      <th>All Upper Manhattan</th>\n",
       "      <th>All Upper West Side</th>\n",
       "    </tr>\n",
       "    <tr>\n",
       "      <th>Date</th>\n",
       "      <th></th>\n",
       "      <th></th>\n",
       "      <th></th>\n",
       "      <th></th>\n",
       "      <th></th>\n",
       "    </tr>\n",
       "  </thead>\n",
       "  <tbody>\n",
       "    <tr>\n",
       "      <th>2010-01-01</th>\n",
       "      <td>3200.0</td>\n",
       "      <td>2895.0</td>\n",
       "      <td>2459.5</td>\n",
       "      <td>1825.0</td>\n",
       "      <td>2895.0</td>\n",
       "    </tr>\n",
       "    <tr>\n",
       "      <th>2010-02-01</th>\n",
       "      <td>3200.0</td>\n",
       "      <td>2800.0</td>\n",
       "      <td>2450.0</td>\n",
       "      <td>1810.0</td>\n",
       "      <td>2800.0</td>\n",
       "    </tr>\n",
       "    <tr>\n",
       "      <th>2010-03-01</th>\n",
       "      <td>3050.0</td>\n",
       "      <td>2800.0</td>\n",
       "      <td>2400.0</td>\n",
       "      <td>1795.0</td>\n",
       "      <td>2750.0</td>\n",
       "    </tr>\n",
       "    <tr>\n",
       "      <th>2010-04-01</th>\n",
       "      <td>3100.0</td>\n",
       "      <td>2850.0</td>\n",
       "      <td>2500.0</td>\n",
       "      <td>1800.0</td>\n",
       "      <td>2800.0</td>\n",
       "    </tr>\n",
       "    <tr>\n",
       "      <th>2010-05-01</th>\n",
       "      <td>3100.0</td>\n",
       "      <td>2900.0</td>\n",
       "      <td>2550.0</td>\n",
       "      <td>1823.0</td>\n",
       "      <td>2800.0</td>\n",
       "    </tr>\n",
       "  </tbody>\n",
       "</table>\n",
       "</div>"
      ],
      "text/plain": [
       "            All Downtown  All Midtown  All Upper East Side  \\\n",
       "Date                                                         \n",
       "2010-01-01        3200.0       2895.0               2459.5   \n",
       "2010-02-01        3200.0       2800.0               2450.0   \n",
       "2010-03-01        3050.0       2800.0               2400.0   \n",
       "2010-04-01        3100.0       2850.0               2500.0   \n",
       "2010-05-01        3100.0       2900.0               2550.0   \n",
       "\n",
       "            All Upper Manhattan  All Upper West Side  \n",
       "Date                                                  \n",
       "2010-01-01               1825.0               2895.0  \n",
       "2010-02-01               1810.0               2800.0  \n",
       "2010-03-01               1795.0               2750.0  \n",
       "2010-04-01               1800.0               2800.0  \n",
       "2010-05-01               1823.0               2800.0  "
      ]
     },
     "execution_count": 22,
     "metadata": {},
     "output_type": "execute_result"
    }
   ],
   "source": [
    "date=pd.to_datetime(pvt.T.index)\n",
    "new_dataFrame = pd.DataFrame({'All Downtown':pvt.loc['submarket','Manhattan', 'All Downtown'],\n",
    "                              'All Midtown':pvt.loc['submarket','Manhattan', 'All Midtown'],\n",
    "                              'All Upper East Side':pvt.loc['submarket','Manhattan', 'All Upper East Side'],\n",
    "                              'All Upper Manhattan':pvt.loc['submarket','Manhattan', 'All Upper Manhattan'],\n",
    "                              'All Upper West Side':pvt.loc['submarket','Manhattan', 'All Upper West Side'],\n",
    "                              'Date':date})\n",
    "date=pd.to_datetime(new_dataFrame.index)\n",
    "new_dataFrame.set_index('Date', inplace=True)\n",
    "new_dataFrame.head()"
   ]
  },
  {
   "cell_type": "markdown",
   "metadata": {},
   "source": [
    "##### Make a time-series plot of the median rents for these Areas"
   ]
  },
  {
   "cell_type": "code",
   "execution_count": 23,
   "metadata": {},
   "outputs": [
    {
     "data": {
      "text/plain": [
       "<matplotlib.legend.Legend at 0x2530c711630>"
      ]
     },
     "execution_count": 23,
     "metadata": {},
     "output_type": "execute_result"
    },
    {
     "data": {
      "image/png": "[encoded data removed]",
      "text/plain": [
       "<matplotlib.figure.Figure at 0x2530c90ad30>"
      ]
     },
     "metadata": {},
     "output_type": "display_data"
    }
   ],
   "source": [
    "plt.plot(new_dataFrame['All Downtown'], '^b')\n",
    "plt.plot(new_dataFrame['All Midtown'], 'o')\n",
    "plt.plot(new_dataFrame['All Upper East Side'], 'g--')\n",
    "plt.plot(new_dataFrame['All Upper Manhattan'], 'ro')\n",
    "plt.plot(new_dataFrame['All Upper West Side'], 'ms')\n",
    "plt.xlabel('Date', fontsize=11, color='grey')\n",
    "plt.ylabel('Rent', fontsize=11, color='grey')\n",
    "plt.title('Rent Price Over Time')\n",
    "plt.legend(loc='best', frameon=True, fontsize='xx-small')"
   ]
  },
  {
   "cell_type": "code",
   "execution_count": 24,
   "metadata": {},
   "outputs": [
    {
     "data": {
      "text/plain": [
       "<matplotlib.axes._subplots.AxesSubplot at 0x2530c9362e8>"
      ]
     },
     "execution_count": 24,
     "metadata": {},
     "output_type": "execute_result"
    },
    {
     "data": {
      "image/png": "[encoded data removed]",
      "text/plain": [
       "<matplotlib.figure.Figure at 0x2530c259198>"
      ]
     },
     "metadata": {},
     "output_type": "display_data"
    }
   ],
   "source": [
    "new_dataFrame.resample('M').last().plot()"
   ]
  },
  {
   "cell_type": "markdown",
   "metadata": {},
   "source": [
    "##### Produce a table summary statistics for your selected Areas"
   ]
  },
  {
   "cell_type": "code",
   "execution_count": 25,
   "metadata": {
    "scrolled": true
   },
   "outputs": [
    {
     "data": {
      "text/html": [
       "<div>\n",
       "<style>\n",
       "    .dataframe thead tr:only-child th {\n",
       "        text-align: right;\n",
       "    }\n",
       "\n",
       "    .dataframe thead th {\n",
       "        text-align: left;\n",
       "    }\n",
       "\n",
       "    .dataframe tbody tr th {\n",
       "        vertical-align: top;\n",
       "    }\n",
       "</style>\n",
       "<table border=\"1\" class=\"dataframe\">\n",
       "  <thead>\n",
       "    <tr style=\"text-align: right;\">\n",
       "      <th></th>\n",
       "      <th>All Downtown</th>\n",
       "      <th>All Midtown</th>\n",
       "      <th>All Upper East Side</th>\n",
       "      <th>All Upper Manhattan</th>\n",
       "      <th>All Upper West Side</th>\n",
       "    </tr>\n",
       "  </thead>\n",
       "  <tbody>\n",
       "    <tr>\n",
       "      <th>count</th>\n",
       "      <td>100.000000</td>\n",
       "      <td>100.000000</td>\n",
       "      <td>100.000000</td>\n",
       "      <td>100.000000</td>\n",
       "      <td>100.000000</td>\n",
       "    </tr>\n",
       "    <tr>\n",
       "      <th>mean</th>\n",
       "      <td>3584.490000</td>\n",
       "      <td>3377.695000</td>\n",
       "      <td>2794.565000</td>\n",
       "      <td>2117.990000</td>\n",
       "      <td>3248.085000</td>\n",
       "    </tr>\n",
       "    <tr>\n",
       "      <th>std</th>\n",
       "      <td>178.105887</td>\n",
       "      <td>173.903388</td>\n",
       "      <td>163.347366</td>\n",
       "      <td>186.468591</td>\n",
       "      <td>188.589074</td>\n",
       "    </tr>\n",
       "    <tr>\n",
       "      <th>min</th>\n",
       "      <td>3050.000000</td>\n",
       "      <td>2800.000000</td>\n",
       "      <td>2400.000000</td>\n",
       "      <td>1795.000000</td>\n",
       "      <td>2750.000000</td>\n",
       "    </tr>\n",
       "    <tr>\n",
       "      <th>25%</th>\n",
       "      <td>3500.000000</td>\n",
       "      <td>3350.000000</td>\n",
       "      <td>2700.000000</td>\n",
       "      <td>1995.000000</td>\n",
       "      <td>3200.000000</td>\n",
       "    </tr>\n",
       "    <tr>\n",
       "      <th>50%</th>\n",
       "      <td>3608.250000</td>\n",
       "      <td>3400.000000</td>\n",
       "      <td>2800.000000</td>\n",
       "      <td>2100.000000</td>\n",
       "      <td>3295.000000</td>\n",
       "    </tr>\n",
       "    <tr>\n",
       "      <th>75%</th>\n",
       "      <td>3700.000000</td>\n",
       "      <td>3500.000000</td>\n",
       "      <td>2950.000000</td>\n",
       "      <td>2295.000000</td>\n",
       "      <td>3381.250000</td>\n",
       "    </tr>\n",
       "    <tr>\n",
       "      <th>max</th>\n",
       "      <td>3895.000000</td>\n",
       "      <td>3595.000000</td>\n",
       "      <td>3050.000000</td>\n",
       "      <td>2400.000000</td>\n",
       "      <td>3572.500000</td>\n",
       "    </tr>\n",
       "  </tbody>\n",
       "</table>\n",
       "</div>"
      ],
      "text/plain": [
       "       All Downtown  All Midtown  All Upper East Side  All Upper Manhattan  \\\n",
       "count    100.000000   100.000000           100.000000           100.000000   \n",
       "mean    3584.490000  3377.695000          2794.565000          2117.990000   \n",
       "std      178.105887   173.903388           163.347366           186.468591   \n",
       "min     3050.000000  2800.000000          2400.000000          1795.000000   \n",
       "25%     3500.000000  3350.000000          2700.000000          1995.000000   \n",
       "50%     3608.250000  3400.000000          2800.000000          2100.000000   \n",
       "75%     3700.000000  3500.000000          2950.000000          2295.000000   \n",
       "max     3895.000000  3595.000000          3050.000000          2400.000000   \n",
       "\n",
       "       All Upper West Side  \n",
       "count           100.000000  \n",
       "mean           3248.085000  \n",
       "std             188.589074  \n",
       "min            2750.000000  \n",
       "25%            3200.000000  \n",
       "50%            3295.000000  \n",
       "75%            3381.250000  \n",
       "max            3572.500000  "
      ]
     },
     "execution_count": 25,
     "metadata": {},
     "output_type": "execute_result"
    }
   ],
   "source": [
    "Table_summary=new_dataFrame.describe()\n",
    "Table_summary"
   ]
  },
  {
   "cell_type": "code",
   "execution_count": 26,
   "metadata": {},
   "outputs": [
    {
     "data": {
      "text/plain": [
       "<matplotlib.legend.Legend at 0x2530bfdcc18>"
      ]
     },
     "execution_count": 26,
     "metadata": {},
     "output_type": "execute_result"
    },
    {
     "data": {
      "image/png": "[encoded data removed]",
      "text/plain": [
       "<matplotlib.figure.Figure at 0x2530b83a588>"
      ]
     },
     "metadata": {},
     "output_type": "display_data"
    }
   ],
   "source": [
    "returns=new_dataFrame.pct_change()\n",
    "returns=returns.drop(returns.index[[0]])\n",
    "#sns.distplot(returns['All Downtown'], label='All Downtown')\n",
    "sns.distplot(returns['All Midtown'], label='All Midtown')\n",
    "#sns.distplot(returns['All Upper East Side'], label='All Upper East Side')\n",
    "sns.distplot(returns['All Upper Manhattan'], label='All Upper Manhattan')\n",
    "#sns.distplot(returns['All Upper West Side'], label='All Upper West Side')\n",
    "plt.title('Distibution of Rent Returns')\n",
    "plt.xlabel('Rent Returns')\n",
    "plt.ylabel('Density')\n",
    "plt.legend(loc='best', frameon=True, fontsize='small')"
   ]
  },
  {
   "cell_type": "markdown",
   "metadata": {},
   "source": [
    "# Serialization"
   ]
  },
  {
   "cell_type": "markdown",
   "metadata": {},
   "source": [
    "##### Write your summary statistics table to an Excel spreadsheet"
   ]
  },
  {
   "cell_type": "code",
   "execution_count": 27,
   "metadata": {
    "collapsed": true
   },
   "outputs": [],
   "source": [
    "writer=pd.ExcelWriter('Output.xlsx', engine='xlsxwriter')\n",
    "Table_summary.to_excel(writer, sheet_name='Summary Statistics')"
   ]
  },
  {
   "cell_type": "markdown",
   "metadata": {},
   "source": [
    "##### Write the full table for your selected Areas to another sheet in the same spreadsheet"
   ]
  },
  {
   "cell_type": "code",
   "execution_count": 28,
   "metadata": {
    "collapsed": true
   },
   "outputs": [],
   "source": [
    "new_dataFrame.to_excel(writer, sheet_name='Full Rent Data')\n",
    "writer.save()"
   ]
  },
  {
   "cell_type": "markdown",
   "metadata": {},
   "source": [
    "##### Name the sheets appropriately"
   ]
  },
  {
   "cell_type": "code",
   "execution_count": 29,
   "metadata": {
    "collapsed": true
   },
   "outputs": [],
   "source": [
    "#Thumbs Up!"
   ]
  },
  {
   "cell_type": "markdown",
   "metadata": {},
   "source": [
    "##### Are there any other data formates that could be useful to write data to? Why?"
   ]
  },
  {
   "cell_type": "code",
   "execution_count": 30,
   "metadata": {
    "collapsed": true
   },
   "outputs": [],
   "source": [
    "#Yes it can be useful to write data out to other data formats. \n",
    "#While I am unfamiliar with a lot of the data formats offered such as feathered and dense. \n",
    "#Other options often saves memory and creates additional ease of access. \n",
    "#For example Pickling the data is absolutely necessary for parallel computing. \n",
    "#Other data types just make it much easier to access, \n",
    "#for example writing it out to a sql or stata file make it much easier for those languages to access and work with."
   ]
  },
  {
   "cell_type": "markdown",
   "metadata": {},
   "source": [
    "# Modeling\n",
    "      Rent Prediction"
   ]
  },
  {
   "cell_type": "markdown",
   "metadata": {},
   "source": [
    "##### What type of model would you use to predict, for one of your selected Areas, its median rent for 2018-05? Why?"
   ]
  },
  {
   "cell_type": "code",
   "execution_count": 31,
   "metadata": {
    "collapsed": true
   },
   "outputs": [],
   "source": [
    "#My initial thought is to use an OLS linear regression model.\n",
    "#Given I am limmited on data and when looking at the graph above the rent rate growth is realitivley linear over time"
   ]
  },
  {
   "cell_type": "markdown",
   "metadata": {},
   "source": [
    "##### What kind of pre-treatment might you preform to help set the stage for modeling? Why, or why might you not do anything?"
   ]
  },
  {
   "cell_type": "code",
   "execution_count": 32,
   "metadata": {
    "collapsed": true
   },
   "outputs": [],
   "source": [
    "#Pre Treatment\n",
    "    ### Missing Data: Given that the Areas I am using have no missing data nothing needs to be done about this.\n",
    "    ### Noninformative: I feel each month is valuble especially in training the data. The predictive value of the first months is useless but I will adjust for this when applying the model by limmiting the window in which the model can view.\n",
    "    ### Outliers: This could be useful given there are some dramatic jumps but I still think it is neccessary to keep them because I think it is more important to retain monthly data as oppossed to having gaps.\n",
    "        #I think it would bias the model to a much more constant based model\n",
    "        #Additionally I think with 100 months of data the outlier's effect will be mitigated."
   ]
  },
  {
   "cell_type": "markdown",
   "metadata": {},
   "source": [
    "##### Go ahead and develop a model to predict that next median rent value. How are you training the model, and how are you evaluating its performance?"
   ]
  },
  {
   "cell_type": "markdown",
   "metadata": {},
   "source": [
    "### AR model "
   ]
  },
  {
   "cell_type": "code",
   "execution_count": 33,
   "metadata": {
    "collapsed": true
   },
   "outputs": [],
   "source": [
    "from statsmodels.tsa.ar_model import AR\n",
    "from sklearn.metrics import mean_squared_error\n",
    "\n",
    "# split dataset\n",
    "X = new_dataFrame['All Downtown'].values\n",
    "train, test = X[1:len(X)-25], X[len(X)-25:]"
   ]
  },
  {
   "cell_type": "code",
   "execution_count": 34,
   "metadata": {},
   "outputs": [
    {
     "name": "stdout",
     "output_type": "stream",
     "text": [
      "Lag Variables: 11\n"
     ]
    }
   ],
   "source": [
    "# train autoregression\n",
    "model = AR(train)\n",
    "model_fit = model.fit()\n",
    "window = model_fit.k_ar\n",
    "coef = model_fit.params\n",
    "print('Lag Variables: %s' % model_fit.k_ar)"
   ]
  },
  {
   "cell_type": "code",
   "execution_count": 35,
   "metadata": {},
   "outputs": [
    {
     "name": "stdout",
     "output_type": "stream",
     "text": [
      "predicted=3779.487047, expected=3795.000000, error=-15.512953\n",
      "predicted=3765.176081, expected=3800.000000, error=-34.823919\n",
      "predicted=3785.645317, expected=3850.000000, error=-64.354683\n",
      "predicted=3823.333168, expected=3895.000000, error=-71.666832\n",
      "predicted=3872.909706, expected=3796.000000, error=76.909706\n",
      "predicted=3774.462906, expected=3800.000000, error=-25.537094\n",
      "predicted=3791.831998, expected=3758.500000, error=33.331998\n",
      "predicted=3763.688201, expected=3711.000000, error=52.688201\n",
      "predicted=3706.688219, expected=3650.000000, error=56.688219\n",
      "predicted=3687.743090, expected=3650.000000, error=37.743090\n",
      "predicted=3690.936974, expected=3700.000000, error=-9.063026\n",
      "predicted=3742.121034, expected=3700.000000, error=42.121034\n",
      "predicted=3722.042249, expected=3735.000000, error=-12.957751\n",
      "predicted=3782.112146, expected=3790.000000, error=-7.887854\n",
      "predicted=3820.115936, expected=3729.000000, error=91.115936\n",
      "predicted=3738.570734, expected=3730.000000, error=8.570734\n",
      "predicted=3745.972802, expected=3700.000000, error=45.972802\n",
      "predicted=3726.314651, expected=3665.000000, error=61.314651\n",
      "predicted=3685.760988, expected=3675.000000, error=10.760988\n",
      "predicted=3685.657909, expected=3675.000000, error=10.657909\n",
      "predicted=3686.871356, expected=3644.000000, error=42.871356\n",
      "predicted=3677.454790, expected=3662.000000, error=15.454790\n",
      "predicted=3677.039352, expected=3760.000000, error=-82.960648\n",
      "predicted=3769.054582, expected=3750.000000, error=19.054582\n",
      "predicted=3764.724858, expected=3795.000000, error=-30.275142\n",
      "Test MSE: 45.881\n"
     ]
    }
   ],
   "source": [
    "# walk forward over time steps in test\n",
    "history = train[len(train)-window:]\n",
    "history = [history[i] for i in range(len(history))]\n",
    "predictions = list()\n",
    "for t in range(len(test)):\n",
    "    length = len(history)\n",
    "    lag = [history[i] for i in range(length-window,length)]\n",
    "    yhat = coef[0]\n",
    "    for d in range(window):\n",
    "        yhat += coef[d+1] * lag[window-d-1]\n",
    "    obs = test[t]\n",
    "    predictions.append(yhat)\n",
    "    history.append(obs)\n",
    "    print('predicted=%f, expected=%f, error=%f' % (yhat, obs, yhat-obs))\n",
    "error = math.sqrt(mean_squared_error(test, predictions))\n",
    "print('Test MSE: %.3f' % error)"
   ]
  },
  {
   "cell_type": "code",
   "execution_count": 36,
   "metadata": {},
   "outputs": [
    {
     "data": {
      "text/plain": [
       "<matplotlib.legend.Legend at 0x2530c26abe0>"
      ]
     },
     "execution_count": 36,
     "metadata": {},
     "output_type": "execute_result"
    },
    {
     "data": {
      "image/png": "[encoded data removed]",
      "text/plain": [
       "<matplotlib.figure.Figure at 0x2530d93a2e8>"
      ]
     },
     "metadata": {},
     "output_type": "display_data"
    }
   ],
   "source": [
    "# plot\n",
    "plt.plot(test, label='Test Data')\n",
    "plt.plot(predictions, color='red', label='Predictions')\n",
    "plt.xlabel('Periods', fontsize=11, color='grey')\n",
    "plt.ylabel('Rent Price', fontsize=11, color='grey')\n",
    "plt.title('AR Model: Prediction Vs Actual')\n",
    "plt.legend()\n",
    "#On average I am about $45 off"
   ]
  },
  {
   "cell_type": "markdown",
   "metadata": {},
   "source": [
    "### My model (12 month, 6 month, 3 month, pct_change)"
   ]
  },
  {
   "cell_type": "code",
   "execution_count": 37,
   "metadata": {
    "collapsed": true
   },
   "outputs": [],
   "source": [
    "#Create new working data\n",
    "y=new_dataFrame['All Downtown']\n",
    "per=new_dataFrame['All Downtown'].pct_change()\n",
    "m3=new_dataFrame['All Downtown'].rolling(3).mean()\n",
    "m6=new_dataFrame['All Downtown'].rolling(6).mean()\n",
    "m12=new_dataFrame['All Downtown'].rolling(12).mean()\n",
    "\n",
    "w_data = pd.DataFrame({'MVA 12':m12,'MVA 6': m6,'MVA3':m3, 'Percent Change':per, 'Y':y})\n",
    "ydata=w_data['Y'][12:].values\n",
    "xdata=w_data[['MVA 12', 'MVA 6', 'MVA3', 'Percent Change']][11:len(w_data)-1].values\n",
    "xdata=np.matrix(xdata.reshape(len(xdata),4))"
   ]
  },
  {
   "cell_type": "code",
   "execution_count": 38,
   "metadata": {
    "collapsed": true
   },
   "outputs": [],
   "source": [
    "from scipy.optimize import curve_fit\n",
    "training_size=63\n",
    "def func(x, a, b1, b2, b3, b4):\n",
    "    return a + x[0:,0]*b1 + x[0:,1]*b2 + x[0:,2]*b3+ x[0:,3]*b4\n",
    "popt=curve_fit(func, xdata[:training_size], ydata[:training_size])\n",
    "popt=popt[0]\n",
    "new_predictions=func(xdata[training_size:],*popt)\n",
    "actual_data=ydata[training_size:]"
   ]
  },
  {
   "cell_type": "code",
   "execution_count": 39,
   "metadata": {},
   "outputs": [
    {
     "data": {
      "text/plain": [
       "<matplotlib.legend.Legend at 0x2530c990b70>"
      ]
     },
     "execution_count": 39,
     "metadata": {},
     "output_type": "execute_result"
    },
    {
     "data": {
      "image/png": "[encoded data removed]",
      "text/plain": [
       "<matplotlib.figure.Figure at 0x2530d93ba20>"
      ]
     },
     "metadata": {},
     "output_type": "display_data"
    }
   ],
   "source": [
    "#Lets test it\n",
    "#Training size is the limmit of my test data\n",
    "plt.plot(ydata[training_size:], label= 'Test Data')\n",
    "plt.plot(func(xdata[training_size:], *popt), label= 'Predictions')\n",
    "plt.xlabel('Periods', fontsize=11, color='grey')\n",
    "plt.ylabel('Rent Price', fontsize=11, color='grey')\n",
    "plt.title('Moving Average Model: Prediction Vs Actual')\n",
    "plt.legend()"
   ]
  },
  {
   "cell_type": "code",
   "execution_count": 40,
   "metadata": {},
   "outputs": [
    {
     "data": {
      "text/plain": [
       "43.15961014982061"
      ]
     },
     "execution_count": 40,
     "metadata": {},
     "output_type": "execute_result"
    }
   ],
   "source": [
    "math.sqrt(mean_squared_error(new_predictions, actual_data))"
   ]
  },
  {
   "cell_type": "markdown",
   "metadata": {},
   "source": [
    "##### Predict values for 2018-05. Now that you have that value, predict values for the following June and July as well."
   ]
  },
  {
   "cell_type": "code",
   "execution_count": 41,
   "metadata": {},
   "outputs": [
    {
     "name": "stdout",
     "output_type": "stream",
     "text": [
      "predicted=3782.769678\n",
      "predicted=3779.338886\n",
      "predicted=3749.836177\n",
      "predicted=3730.149585\n",
      "predicted=3721.606567\n",
      "predicted=3731.406537\n",
      "predicted=3710.916315\n",
      "predicted=3713.736913\n",
      "predicted=3730.177562\n",
      "predicted=3743.582983\n",
      "May=3782.769678, June=3779.338886, July=3749.836177\n"
     ]
    }
   ],
   "source": [
    "#AR Prediction\n",
    "Xx = new_dataFrame['All Downtown'].values\n",
    "Xx= [Xx[i] for i in range(len(Xx))]\n",
    "month=[]\n",
    "for t in range(10):\n",
    "    length=len(Xx)\n",
    "    lag = [Xx[i] for i in range(length-window,length)]\n",
    "    yhat = coef[0]\n",
    "    for d in range(window):\n",
    "        yhat += coef[d+1] * lag[window-d-1]\n",
    "    Xx.append(yhat)\n",
    "    month.append(yhat)\n",
    "    print('predicted=%f' % (yhat))\n",
    "print('May=%f, June=%f, July=%f' % (month[0], month[1], month[2]))\n",
    "#On average I am about $45 off"
   ]
  },
  {
   "cell_type": "markdown",
   "metadata": {},
   "source": [
    "##### Visualize your predicted data. How does it look?"
   ]
  },
  {
   "cell_type": "code",
   "execution_count": 42,
   "metadata": {
    "collapsed": true
   },
   "outputs": [],
   "source": [
    "#It looks reasonable, however the biggest issues is that spike changes in price heavily effect the data.\n",
    "#I thought about retraining my data each additional month but I felt that the predictive value of that drops of dramtically after the first new value is added.\n",
    "#Another thing to consider is that for the AR model it decided to do a 12 month lag which I think is interesting being that would be 1 full year."
   ]
  },
  {
   "cell_type": "markdown",
   "metadata": {},
   "source": [
    "### AR Model (log returns)"
   ]
  },
  {
   "cell_type": "code",
   "execution_count": 43,
   "metadata": {
    "collapsed": true
   },
   "outputs": [],
   "source": [
    "lx = np.log(new_dataFrame['All Downtown']).diff().values\n",
    "train, test = lx[1:len(lx)-25], lx[len(lx)-25:]"
   ]
  },
  {
   "cell_type": "code",
   "execution_count": 44,
   "metadata": {},
   "outputs": [
    {
     "name": "stdout",
     "output_type": "stream",
     "text": [
      "Lag Variables: 11\n"
     ]
    }
   ],
   "source": [
    "model = AR(train)\n",
    "model_fit = model.fit()\n",
    "window = model_fit.k_ar\n",
    "coef = model_fit.params\n",
    "print('Lag Variables: %s' % model_fit.k_ar)"
   ]
  },
  {
   "cell_type": "code",
   "execution_count": 45,
   "metadata": {},
   "outputs": [
    {
     "name": "stdout",
     "output_type": "stream",
     "text": [
      "predicted=0.014127, expected=0.011929, error=0.002199\n",
      "predicted=-0.002076, expected=0.001317, error=-0.003392\n",
      "predicted=0.003028, expected=0.013072, error=-0.010044\n",
      "predicted=0.000882, expected=0.011621, error=-0.010738\n",
      "predicted=0.002141, expected=-0.025746, error=0.027887\n",
      "predicted=0.000030, expected=0.001053, error=-0.001023\n",
      "predicted=0.004805, expected=-0.010981, error=0.015786\n",
      "predicted=0.008394, expected=-0.012719, error=0.021112\n",
      "predicted=0.003923, expected=-0.016574, error=0.020497\n",
      "predicted=0.014960, expected=0.000000, error=0.014960\n",
      "predicted=0.015401, expected=0.013606, error=0.001796\n",
      "predicted=0.015412, expected=0.000000, error=0.015412\n",
      "predicted=0.008487, expected=0.009415, error=-0.000928\n",
      "predicted=0.015611, expected=0.014618, error=0.000993\n",
      "predicted=0.011494, expected=-0.016226, error=0.027720\n",
      "predicted=0.003951, expected=0.000268, error=0.003683\n",
      "predicted=0.007161, expected=-0.008075, error=0.015237\n",
      "predicted=0.010072, expected=-0.009504, error=0.019576\n",
      "predicted=0.008055, expected=0.002725, error=0.005330\n",
      "predicted=0.006198, expected=0.000000, error=0.006198\n",
      "predicted=0.007377, expected=-0.008471, error=0.015848\n",
      "predicted=0.012047, expected=0.004927, error=0.007119\n",
      "predicted=0.006792, expected=0.026410, error=-0.019617\n",
      "predicted=0.006907, expected=-0.002663, error=0.009570\n",
      "predicted=0.006851, expected=0.011929, error=-0.005077\n",
      "Test MSE: 0.000\n"
     ]
    }
   ],
   "source": [
    "history = train[len(train)-window:]\n",
    "history = [history[i] for i in range(len(history))]\n",
    "predictions = list()\n",
    "for t in range(len(test)):\n",
    "    length = len(history)\n",
    "    lag = [history[i] for i in range(length-window,length)]\n",
    "    yhat = coef[0]\n",
    "    for d in range(window):\n",
    "        yhat += coef[d+1] * lag[window-d-1]\n",
    "    obs = test[t]\n",
    "    predictions.append(yhat)\n",
    "    history.append(obs)\n",
    "    print('predicted=%f, expected=%f, error=%f' % (yhat, obs, yhat-obs))\n",
    "error = mean_squared_error(test, predictions)\n",
    "print('Test MSE: %.3f' % error)"
   ]
  },
  {
   "cell_type": "code",
   "execution_count": 46,
   "metadata": {},
   "outputs": [
    {
     "data": {
      "text/plain": [
       "<matplotlib.legend.Legend at 0x2530ca01e48>"
      ]
     },
     "execution_count": 46,
     "metadata": {},
     "output_type": "execute_result"
    },
    {
     "data": {
      "image/png": "[encoded data removed]",
      "text/plain": [
       "<matplotlib.figure.Figure at 0x2530c9a3c50>"
      ]
     },
     "metadata": {},
     "output_type": "display_data"
    }
   ],
   "source": [
    "plt.plot(test, label='Test Data')\n",
    "plt.plot(predictions, color='red', label='Predictions')\n",
    "plt.xlabel('Periods', fontsize=11, color='grey')\n",
    "plt.ylabel('Rent Price Percent Change', fontsize=11, color='grey')\n",
    "plt.title('AR Model (Percentage Change): Prediction Vs Actual')\n",
    "plt.legend()"
   ]
  }
 ],
 "metadata": {
  "kernelspec": {
   "display_name": "Python 3",
   "language": "python",
   "name": "python3"
  },
  "language_info": {
   "codemirror_mode": {
    "name": "ipython",
    "version": 3
   },
   "file_extension": ".py",
   "mimetype": "text/x-python",
   "name": "python",
   "nbconvert_exporter": "python",
   "pygments_lexer": "ipython3",
   "version": "3.6.3"
  }
 },
 "nbformat": 4,
 "nbformat_minor": 2
}
